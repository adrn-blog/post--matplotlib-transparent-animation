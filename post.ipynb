{
 "cells": [
  {
   "cell_type": "markdown",
   "metadata": {},
   "source": [
    "I recently needed to overlay a Matplotlib animation on an image in a keynote\n",
    "presentation. This requires creating an animation with a transparent background\n",
    "so that only the plot elements are shown. It turns out that this is possible\n",
    "using the Matplotlib animation objects (note: I've only tried this on Mac). The\n",
    "key elements to doing this are to (1) make the Matplotlib figure background\n",
    "invisible, (2) save the video using a png codec (yes, the image format), and (3)\n",
    "to pass keyword arguments through the animation object to the individual\n",
    "Matplotlib `savefig` calls. I'll show a simple example below of a circle\n",
    "orbiting in a circle with a trail of points that fade out. *(Note: running this\n",
    "code requires installing\n",
    "[JSanimation](https://github.com/jakevdp/JSAnimation).)* First, imports:"
   ]
  },
  {
   "cell_type": "code",
   "execution_count": null,
   "metadata": {},
   "outputs": [],
   "source": [
    "# Third-party\n",
    "from matplotlib import animation\n",
    "import matplotlib.pyplot as plt\n",
    "import numpy as np\n",
    "\n",
    "%matplotlib inline\n",
    "from JSAnimation.IPython_display import display_animation"
   ]
  },
  {
   "cell_type": "markdown",
   "metadata": {},
   "source": [
    "We start by defining how many frames (timesteps) to use in the animation, and\n",
    "how many circles to draw in the trail:"
   ]
  },
  {
   "cell_type": "code",
   "execution_count": null,
   "metadata": {},
   "outputs": [],
   "source": [
    "n_frames = 128\n",
    "n_trails = 8"
   ]
  },
  {
   "cell_type": "markdown",
   "metadata": {},
   "source": [
    "The circle will orbit in a circle:"
   ]
  },
  {
   "cell_type": "code",
   "execution_count": null,
   "metadata": {},
   "outputs": [],
   "source": [
    "t = np.linspace(0, 10, n_frames)\n",
    "x = np.sin(t)\n",
    "y = np.cos(t)"
   ]
  },
  {
   "cell_type": "markdown",
   "metadata": {},
   "source": [
    "Finally, the meat of the code containing the calls to Matplotlib:"
   ]
  },
  {
   "cell_type": "code",
   "execution_count": null,
   "metadata": {},
   "outputs": [],
   "source": [
    "fig, ax = plt.subplots(1, 1, figsize=(8, 8))\n",
    "\n",
    "ax.set_xlim(-1.1, 1.1)\n",
    "ax.set_ylim(-1.1, 1.1)\n",
    "\n",
    "# turn off axis spines\n",
    "ax.xaxis.set_visible(False)\n",
    "ax.yaxis.set_visible(False)\n",
    "ax.set_frame_on(False)\n",
    "\n",
    "# set figure background opacity (alpha) to 0\n",
    "fig.patch.set_alpha(0.0)\n",
    "\n",
    "fig.tight_layout()\n",
    "\n",
    "(pt,) = ax.plot([], [], linestyle=\"none\", marker=\"o\", ms=15, color=\"r\")\n",
    "\n",
    "trails = []\n",
    "for i, alpha in enumerate(np.linspace(1.0, 0, n_trails)):\n",
    "    (l,) = ax.plot(\n",
    "        [], [], linestyle=\"none\", marker=\"o\", ms=6, alpha=alpha, c=\"w\", zorder=-1000\n",
    "    )\n",
    "    trails.append(l)\n",
    "\n",
    "\n",
    "def init():\n",
    "    pt.set_data([], [])\n",
    "    for trail in trails:\n",
    "        trail.set_data([], [])\n",
    "    return (pt,) + tuple(trails)\n",
    "\n",
    "\n",
    "def update(i):\n",
    "    ix = i - n_trails\n",
    "\n",
    "    pt.set_data(x[i], y[i])\n",
    "    for j, trail in zip(range(len(trails))[::-1], trails):\n",
    "        if ix + j < 0:\n",
    "            continue\n",
    "        trail.set_data(x[ix + j], y[ix + j])\n",
    "    return (pt,) + tuple(trails)\n",
    "\n",
    "\n",
    "ani = animation.FuncAnimation(\n",
    "    fig, update, n_frames, init_func=init, interval=20, blit=True\n",
    ")\n",
    "\n",
    "display_animation(ani)"
   ]
  },
  {
   "cell_type": "markdown",
   "metadata": {},
   "source": [
    "Notice the lines that hide the plot elements and make the figure background\n",
    "transparent:\n",
    "\n",
    "```python\n",
    "ax.xaxis.set_visible(False)\n",
    "ax.yaxis.set_visible(False)\n",
    "ax.set_frame_on(False)\n",
    "```\n",
    "\n",
    "and\n",
    "\n",
    "```python\n",
    "fig.patch.set_alpha(0.)\n",
    "```\n",
    "\n",
    "To save the video out with a transparent background, the other critical\n",
    "arguments are to the `save()` call, especially the keyword arguments passed\n",
    "through via `savefig_kwargs`:"
   ]
  },
  {
   "cell_type": "code",
   "execution_count": null,
   "metadata": {},
   "outputs": [],
   "source": [
    "ani.save(\n",
    "    \"circle_anim.mov\",\n",
    "    codec=\"png\",\n",
    "    dpi=100,\n",
    "    bitrate=-1,\n",
    "    savefig_kwargs={\"transparent\": True, \"facecolor\": \"none\"},\n",
    ")"
   ]
  }
 ],
 "metadata": {
  "git": {
   "suppress_outputs": false
  }
 },
 "nbformat": 4,
 "nbformat_minor": 1
}
